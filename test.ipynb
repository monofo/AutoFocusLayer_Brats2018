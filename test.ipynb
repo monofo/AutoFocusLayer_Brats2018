{
 "metadata": {
  "language_info": {
   "codemirror_mode": {
    "name": "ipython",
    "version": 3
   },
   "file_extension": ".py",
   "mimetype": "text/x-python",
   "name": "python",
   "nbconvert_exporter": "python",
   "pygments_lexer": "ipython3",
   "version": "3.7.3-final"
  },
  "orig_nbformat": 2,
  "kernelspec": {
   "name": "python_defaultSpec_1597812767854",
   "display_name": "Python 3.7.3 64-bit ('kaggle': venv)"
  }
 },
 "nbformat": 4,
 "nbformat_minor": 2,
 "cells": [
  {
   "cell_type": "code",
   "execution_count": 1,
   "metadata": {},
   "outputs": [],
   "source": [
    "import nibabel as nib\n",
    "import numpy as np\n",
    "\n",
    "import SimpleITK as sitk\n",
    "import os\n",
    "import glob\n",
    "\n",
    "import matplotlib.pyplot as plt\n",
    "import nibabel as nib\n",
    "\n",
    "import argparse\n",
    "import math\n",
    "import os\n",
    "from distutils.version import LooseVersion\n",
    "\n",
    "import nibabel as nib\n",
    "import numpy as np\n",
    "import torch\n",
    "import torch.nn as nn\n",
    "import torch.optim as optim\n",
    "\n",
    "from config import TrainGlobalConfig\n",
    "from dataset import BraTSDataset\n",
    "from model import ModelBuilder\n",
    "from utils import AverageMeter, PytorchTrainer\n",
    "\n",
    "from transforms import Rot90, Flip, Identity, Compose\n",
    "from transforms import GaussianBlur, Noise, Normalize, RandSelect\n",
    "from transforms import RandCrop, CenterCrop, Pad,RandCrop3D,RandomRotion,RandomFlip,RandomIntensityChange\n",
    "from transforms import NumpyType\n",
    "\n",
    "from vis_utils import myshow\n"
   ]
  },
  {
   "cell_type": "code",
   "execution_count": 2,
   "metadata": {},
   "outputs": [],
   "source": [
    "    device = torch.device('cuda' if torch.cuda.is_available else 'cpu')\n",
    "    \n",
    "    builder = ModelBuilder()\n",
    "    model = builder.build_net(\n",
    "            arch=TrainGlobalConfig.id, \n",
    "            num_input=TrainGlobalConfig.num_input, \n",
    "            num_classes=TrainGlobalConfig.num_classes, \n",
    "            num_branches=TrainGlobalConfig.num_branches,\n",
    "            padding_list=TrainGlobalConfig.padding_list, \n",
    "            dilation_list=TrainGlobalConfig.dilation_list\n",
    "            )\n",
    "\n",
    "    model = model.to(device)\n",
    "\n",
    "    ch = torch.load(\"/home/koga/workspace/autofucus_layer/result/ex5/last-checkpoint.bin\")\n",
    "    model.load_state_dict(ch[\"model_state_dict\"])\n",
    "\n",
    "                    \n",
    "    train_list = os.path.join(\"/home/koga/dataset/BRATS2018/Train\", \"train_0.txt\")\n",
    "    valid_list = os.path.join(\"/home/koga/dataset/BRATS2018/Train\", \"valid_0.txt\")\n",
    "\n",
    "    valid_dataset = BraTSDataset(\n",
    "        list_file = valid_list,\n",
    "        root = TrainGlobalConfig.root_path,\n",
    "        phase = \"val\",\n",
    "        transforms = None\n",
    "    )\n",
    "    \n",
    "  \n",
    "    valid_loader = torch.utils.data.DataLoader(\n",
    "        valid_dataset, \n",
    "        batch_size=TrainGlobalConfig.batch_size, \n",
    "        shuffle=False, \n",
    "        num_workers=TrainGlobalConfig.num_workers, \n",
    "        pin_memory=True\n",
    "    )\n"
   ]
  },
  {
   "cell_type": "code",
   "execution_count": 3,
   "metadata": {
    "tags": []
   },
   "outputs": [
    {
     "output_type": "stream",
     "name": "stdout",
     "text": "tensor([0, 1, 2, 3])\n"
    }
   ],
   "source": [
    "index = 0\n",
    "image = valid_dataset[index][\"images\"].unsqueeze(0)\n",
    "label = valid_dataset[index][\"labels\"].unsqueeze(0)\n",
    "print(label.unique())"
   ]
  },
  {
   "cell_type": "code",
   "execution_count": 4,
   "metadata": {},
   "outputs": [
    {
     "output_type": "execute_result",
     "data": {
      "text/plain": "torch.Size([1, 75, 75, 75])"
     },
     "metadata": {},
     "execution_count": 4
    }
   ],
   "source": [
    "label.shape"
   ]
  },
  {
   "cell_type": "code",
   "execution_count": 5,
   "metadata": {
    "tags": []
   },
   "outputs": [
    {
     "output_type": "stream",
     "name": "stdout",
     "text": "tensor([0., 2.])\n"
    }
   ],
   "source": [
    "model.eval()\n",
    "with torch.no_grad():\n",
    "    image = image.to(device, dtype=torch.float)\n",
    "    label = label.to(device, dtype=torch.long)\n",
    "\n",
    "    out = model(image)\n",
    "    out = out.permute(0,2,3,4,1)\n",
    "    out = torch.max(out, 4)[1]\n",
    "\n",
    "    start = [14, 14, 14]\n",
    "    center = out.size()[1:]\n",
    "    prediction = torch.zeros(label.size())\n",
    "    prediction[:, start[0]:start[0]+center[0], start[1]: start[1]+center[1], start[2]: start[2]+center[2]] = out\n",
    "\n",
    "    p = prediction    \n",
    "    print(p.unique())            \n",
    "            # make the prediction corresponding to the center part of the image\n",
    "    prediction = prediction.contiguous().view(-1).cuda()            \n",
    "    label = label.contiguous().view(-1) "
   ]
  },
  {
   "cell_type": "code",
   "execution_count": 7,
   "metadata": {},
   "outputs": [
    {
     "output_type": "display_data",
     "data": {
      "text/plain": "interactive(children=(IntSlider(value=119, description='z', max=239), Output()), _dom_classes=('widget-interac…",
      "application/vnd.jupyter.widget-view+json": {
       "version_major": 2,
       "version_minor": 0,
       "model_id": "be32d04a04cc4d139e3037589135c09e"
      }
     },
     "metadata": {}
    }
   ],
   "source": [
    "myshow(sitk.GetImageFromArray(p.squeeze(0).detach().numpy()))"
   ]
  },
  {
   "cell_type": "code",
   "execution_count": 64,
   "metadata": {},
   "outputs": [],
   "source": [
    "def dice_score(o, t,eps = 1e-8):\n",
    "    num = 2*(o*t).sum() + eps #\n",
    "    den = o.sum() + t.sum() + eps # eps\n",
    "    # print(o.sum(),t.sum(),num,den)\n",
    "    print('All_voxels:240*240*155 | numerator:{} | denominator:{} | pred_voxels:{} | GT_voxels:{}'.format(int(num),int(den),o.sum(),int(t.sum())))\n",
    "    return num/den\n",
    "\n",
    "\n",
    "def softmax_output_dice(output, target):\n",
    "    ret = []\n",
    "\n",
    "    # whole\n",
    "    o = output > 0; t = target > 0 # ce\n",
    "    ret += dice_score(o, t),\n",
    "    # core\n",
    "    o = (output==1) | (output==3)\n",
    "    t = (target==1) | (target==4)\n",
    "    ret += dice_score(o , t),\n",
    "    # active\n",
    "    o = (output==3); t = (target==4)\n",
    "    ret += dice_score(o , t),\n",
    "\n",
    "    return ret"
   ]
  },
  {
   "cell_type": "code",
   "execution_count": 65,
   "metadata": {
    "tags": []
   },
   "outputs": [
    {
     "output_type": "stream",
     "name": "stdout",
     "text": "All_voxels:240*240*155 | numerator:135432 | denominator:157911 | pred_voxels:74493 | GT_voxels:83418\nAll_voxels:240*240*155 | numerator:440 | denominator:8872 | pred_voxels:1237 | GT_voxels:7635\nAll_voxels:240*240*155 | numerator:0 | denominator:6047 | pred_voxels:0 | GT_voxels:6047\nwhole: 0.8576, core: 0.0496, enhancing: 0.0000\n"
    }
   ],
   "source": [
    "label = valid_dataset[index][\"labels\"].unsqueeze(0)\n",
    "scores = softmax_output_dice(p, label)\n",
    "keys = 'whole', 'core', 'enhancing', 'loss'\n",
    "\n",
    "msg = ', '.join(['{}: {:.4f}'.format(k, v) for k, v in zip(keys, scores)])\n",
    "print(msg)\n"
   ]
  },
  {
   "cell_type": "code",
   "execution_count": 66,
   "metadata": {},
   "outputs": [
    {
     "output_type": "execute_result",
     "data": {
      "text/plain": "tensor([0., 1., 2.])"
     },
     "metadata": {},
     "execution_count": 66
    }
   ],
   "source": [
    "p.unique()"
   ]
  },
  {
   "cell_type": "code",
   "execution_count": null,
   "metadata": {},
   "outputs": [],
   "source": []
  }
 ]
}